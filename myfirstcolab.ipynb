{
  "nbformat": 4,
  "nbformat_minor": 0,
  "metadata": {
    "colab": {
      "name": "myfirstcolab.ipynb",
      "provenance": [],
      "authorship_tag": "ABX9TyNgTUOBvNT6DXgTtVxQ/DSj",
      "include_colab_link": true
    },
    "kernelspec": {
      "name": "python3",
      "display_name": "Python 3"
    },
    "language_info": {
      "name": "python"
    }
  },
  "cells": [
    {
      "cell_type": "markdown",
      "metadata": {
        "id": "view-in-github",
        "colab_type": "text"
      },
      "source": [
        "<a href=\"https://colab.research.google.com/github/BharathLakshmanBabu/Basic-ML/blob/main/myfirstcolab.ipynb\" target=\"_parent\"><img src=\"https://colab.research.google.com/assets/colab-badge.svg\" alt=\"Open In Colab\"/></a>"
      ]
    },
    {
      "cell_type": "markdown",
      "metadata": {
        "id": "TRemewLr-TUu"
      },
      "source": [
        "**Python program for finding sum of first N natural numbers:**"
      ]
    },
    {
      "cell_type": "markdown",
      "metadata": {
        "id": "DWgDlGIr_ELp"
      },
      "source": [
        ""
      ]
    },
    {
      "cell_type": "code",
      "metadata": {
        "colab": {
          "base_uri": "https://localhost:8080/"
        },
        "id": "wumD1zoB-U2K",
        "outputId": "06f9e284-e62f-4800-c0c0-1e624ddb2031"
      },
      "source": [
        "N = int(input())\n",
        "\n",
        "if N< 0:\n",
        "   print(\"Enter a positive number\")\n",
        "else:\n",
        "   sum = 0\n",
        "   while(N > 0):\n",
        "       sum +=N \n",
        "       N -= 1\n",
        "   print(\"The sum is\", sum)"
      ],
      "execution_count": 2,
      "outputs": [
        {
          "output_type": "stream",
          "text": [
            "15\n",
            "The sum is 120\n"
          ],
          "name": "stdout"
        }
      ]
    },
    {
      "cell_type": "markdown",
      "metadata": {
        "id": "So462NlM-hw1"
      },
      "source": [
        "The above program is used to calculate the sum of N natural numbers.To test the program for a different number, change the value of N.\n",
        "Initially, the sum is initialized to 0. And, the number is stored in variable num.\n",
        "Then, we used the while loop to iterate until N becomes zero. In each iteration of the loop, we have added the N to sum and the value of N is decreased by 1."
      ]
    },
    {
      "cell_type": "markdown",
      "metadata": {
        "id": "RNSIrf5c-r28"
      },
      "source": [
        "**Python program for finding whether even or odd:**"
      ]
    },
    {
      "cell_type": "code",
      "metadata": {
        "id": "T8IAUe1_-3wR"
      },
      "source": [
        "N=int(input())\n",
        "if N%2==0:\n",
        "    print(\"Even\")\n",
        "else:\n",
        "    print(\"Odd\")"
      ],
      "execution_count": null,
      "outputs": []
    },
    {
      "cell_type": "markdown",
      "metadata": {
        "id": "-ppjw4wj-7CP"
      },
      "source": [
        "The above python program is used to identify whether the given number is odd or even. A number is even if it is perfectly divisible by 2. When the number is divided by 2, we use the remainder operator % to compute the remainder. If the remainder is not zero, the number is odd."
      ]
    },
    {
      "cell_type": "markdown",
      "metadata": {
        "id": "f_bSgOXZ_Edj"
      },
      "source": [
        "**Python Program to Swap Two Variables:**"
      ]
    },
    {
      "cell_type": "code",
      "metadata": {
        "id": "eK6Z6nV0_Z48"
      },
      "source": [
        "x = input('Enter value of x: ')\n",
        "y = input('Enter value of y: ')\n",
        "temp = x\n",
        "x = y\n",
        "y = temp\n",
        "\n",
        "print('The value of x after swapping: {}'.format(x))\n",
        "print('The value of y after swapping: {}'.format(y))"
      ],
      "execution_count": null,
      "outputs": []
    },
    {
      "cell_type": "markdown",
      "metadata": {
        "id": "jVqdZADp_cza"
      },
      "source": [
        "With the help of above program we can swap two variables using python.\n",
        "In this program, we use the temp variable to hold the value of x temporarily. We then put the value of y in x and later temp in y. In this way, the values get exchanged. "
      ]
    }
  ]
}